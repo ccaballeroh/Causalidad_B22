{
  "cells": [
    {
      "cell_type": "markdown",
      "metadata": {
        "id": "view-in-github",
        "colab_type": "text"
      },
      "source": [
        "<a href=\"https://colab.research.google.com/github/ccaballeroh/Causalidad_B22/blob/main/code/assignments/Causal_Inference_B22_Ex01_HW.ipynb\" target=\"_parent\"><img src=\"https://colab.research.google.com/assets/colab-badge.svg\" alt=\"Open In Colab\"/></a>"
      ]
    },
    {
      "cell_type": "markdown",
      "metadata": {
        "id": "VsP4pGCFPXhZ"
      },
      "source": [
        "On this cell write your name, program (ESCOM, MCC, MCIC, DCC) and in which semester you are on.\n",
        "\n",
        "- Name:\n",
        "- Program:\n",
        "- Semester:"
      ]
    },
    {
      "cell_type": "markdown",
      "metadata": {
        "id": "RVQLujIS1K50"
      },
      "source": [
        "# Analysis of Salaries Between Men and Women"
      ]
    },
    {
      "cell_type": "markdown",
      "metadata": {
        "id": "IAaEVoM5lxj4"
      },
      "source": [
        "Let's assume we work as data scientists in a company and we're given a data set with the salaries of company employees.\n",
        "\n",
        "With this data set, we're asked to answer \n",
        "\n",
        "**What is the pay gap between men and women in the company?**"
      ]
    },
    {
      "cell_type": "markdown",
      "metadata": {
        "id": "IDol42GFYacy"
      },
      "source": [
        "## Set up\n",
        "\n",
        "Import the necessary modules."
      ]
    },
    {
      "cell_type": "code",
      "execution_count": null,
      "metadata": {
        "id": "uDrm6pj9UZRW"
      },
      "outputs": [],
      "source": [
        "import pandas as pd\n",
        "import numpy as np\n",
        "import matplotlib.pyplot as plt\n",
        "import seaborn as sns\n",
        "import statsmodels.formula.api as smf\n",
        "from tqdm import tqdm"
      ]
    },
    {
      "cell_type": "markdown",
      "metadata": {
        "id": "e1X1bOlGYf8k"
      },
      "source": [
        "Definition of auxiliary functions."
      ]
    },
    {
      "cell_type": "code",
      "execution_count": null,
      "metadata": {
        "id": "QFRLK1U9Wcv4"
      },
      "outputs": [],
      "source": [
        "def generate_data(**kwargs):\n",
        "  raise NotImplementedError\n",
        "\n",
        "def read_data(**kwargs):\n",
        "  csv_filename = kwargs[\"csv_filename\"]\n",
        "  return pd.read_csv(csv_filename)"
      ]
    },
    {
      "cell_type": "markdown",
      "metadata": {
        "id": "GETJM-2w1f_C"
      },
      "source": [
        "Variable `ENV` must have the value `\"HW\"` when in homework mode."
      ]
    },
    {
      "cell_type": "code",
      "execution_count": null,
      "metadata": {
        "id": "Fomz9yeUy_DY"
      },
      "outputs": [],
      "source": [
        "ENV = \"HW\""
      ]
    },
    {
      "cell_type": "code",
      "execution_count": null,
      "metadata": {
        "id": "OfB69KVTwMLV"
      },
      "outputs": [],
      "source": [
        "get_data = read_data if ENV == \"HW\" else generate_data"
      ]
    },
    {
      "cell_type": "markdown",
      "metadata": {
        "id": "05dBtcORYk07"
      },
      "source": [
        "## Start"
      ]
    },
    {
      "cell_type": "markdown",
      "metadata": {
        "id": "lvzKEDgm14c7"
      },
      "source": [
        "Read the data from the file named `ex_01_salaries.csv` with the function `read_data` defined above."
      ]
    },
    {
      "cell_type": "code",
      "execution_count": null,
      "metadata": {
        "id": "3rXB-0s8v89F"
      },
      "outputs": [],
      "source": [
        "kwargs = {\n",
        "    \"csv_filename\": \"https://raw.githubusercontent.com/ccaballeroh/Causalidad_B22/main/data/ex_01_salaries.csv\"\n",
        "}\n",
        "\n",
        "data = get_data(**kwargs)\n",
        "\n",
        "if not ENV == \"HW\":\n",
        "  data.to_csv(\"ex_01_salaries.csv\", header=True, index=False)"
      ]
    },
    {
      "cell_type": "markdown",
      "metadata": {
        "id": "boOV-ONo2Mm8"
      },
      "source": [
        "## Exploratory Data Analysis (EDA)"
      ]
    },
    {
      "cell_type": "markdown",
      "metadata": {
        "id": "6RwMG1Y92RRi"
      },
      "source": [
        "Let's see the first lines of the data set saved in the DataFrame named `data`."
      ]
    },
    {
      "cell_type": "code",
      "execution_count": null,
      "metadata": {
        "id": "1BRh_SiHyDlZ"
      },
      "outputs": [],
      "source": [
        "# Call the method `head()` of the DataFrame"
      ]
    },
    {
      "cell_type": "markdown",
      "metadata": {
        "id": "9WUM66qi2deO"
      },
      "source": [
        "Print the data type of the columns of `data`."
      ]
    },
    {
      "cell_type": "code",
      "execution_count": null,
      "metadata": {
        "id": "FeLDbfYi2jDF"
      },
      "outputs": [],
      "source": [
        "# Call the `dtypes` attribute of the DataFrame"
      ]
    },
    {
      "cell_type": "markdown",
      "metadata": {
        "id": "PbhF80wj3Dmd"
      },
      "source": [
        "Print the summary of the data set."
      ]
    },
    {
      "cell_type": "code",
      "execution_count": null,
      "metadata": {
        "id": "Jn0JxWts0wPK"
      },
      "outputs": [],
      "source": [
        "# Call the method `describe()` with the parameter include equal to ['object', 'float', 'int']"
      ]
    },
    {
      "cell_type": "markdown",
      "metadata": {
        "id": "hNBuaf3n3Jxy"
      },
      "source": [
        "Make a box plot of `salary` by `sex`."
      ]
    },
    {
      "cell_type": "code",
      "execution_count": null,
      "metadata": {
        "id": "13Kk9jyckt4O"
      },
      "outputs": [],
      "source": [
        "# Use `catplot` of Seaborn"
      ]
    },
    {
      "cell_type": "markdown",
      "metadata": {
        "id": "_ToUeAIP3we_"
      },
      "source": [
        "**Question:**\n",
        "\n",
        "What do you think? Is there or is there not a pay gap between men and women?"
      ]
    },
    {
      "cell_type": "markdown",
      "metadata": {
        "id": "4GdK8SZi35co"
      },
      "source": [
        "**Your answer:**"
      ]
    },
    {
      "cell_type": "markdown",
      "metadata": {
        "id": "04JREz4K3PNt"
      },
      "source": [
        "Now, make a box plot of `salary` by `sex` stratifying by the third variable `position`."
      ]
    },
    {
      "cell_type": "code",
      "execution_count": null,
      "metadata": {
        "id": "100f6FZPWsU2"
      },
      "outputs": [],
      "source": [
        "# Use `catplot`"
      ]
    },
    {
      "cell_type": "markdown",
      "metadata": {
        "id": "hzNZMwsj3hR2"
      },
      "source": [
        "**Question:**\n",
        "\n",
        "Did you change your mind? Is there a difference between men and women when we compare by the same type of position?"
      ]
    },
    {
      "cell_type": "markdown",
      "metadata": {
        "id": "71_LwjuE4dkT"
      },
      "source": [
        "**Your answer:**"
      ]
    },
    {
      "cell_type": "markdown",
      "metadata": {
        "id": "pmhAbPXo4gmI"
      },
      "source": [
        "Now, make a categorical plot of type `swarm` using `catplot` from Seaborn. On the x-axis place the `position`; on the y-axis, `salary`, and stratify by `sex`."
      ]
    },
    {
      "cell_type": "code",
      "execution_count": null,
      "metadata": {
        "id": "wE0y1U-UY-1j"
      },
      "outputs": [],
      "source": [
        "# Your code"
      ]
    },
    {
      "cell_type": "markdown",
      "metadata": {
        "id": "FAH2k-HH5dzW"
      },
      "source": [
        "**Question:**\n",
        "\n",
        "Is the pay gap between managers and no managers big?"
      ]
    },
    {
      "cell_type": "markdown",
      "metadata": {
        "id": "oO-UFHHcgMk4"
      },
      "source": [
        "**Your answer:**"
      ]
    },
    {
      "cell_type": "markdown",
      "metadata": {
        "id": "E0C2EHZq5lP-"
      },
      "source": [
        "Now, make the same plot, but swap the variables for the x and the hue."
      ]
    },
    {
      "cell_type": "code",
      "execution_count": null,
      "metadata": {
        "id": "mczugpBeQIPD"
      },
      "outputs": [],
      "source": [
        "# Your code"
      ]
    },
    {
      "cell_type": "markdown",
      "metadata": {
        "id": "qYXEBlRJ5V9_"
      },
      "source": [
        "**Question:**\n",
        "\n",
        "Are there more or fewer women than men in high-paying jobs? And in low-paying jobs?"
      ]
    },
    {
      "cell_type": "markdown",
      "source": [
        "**Your answer:**"
      ],
      "metadata": {
        "id": "9JgS6LN9_cZs"
      }
    },
    {
      "cell_type": "markdown",
      "metadata": {
        "id": "np_JblnZ5zRm"
      },
      "source": [
        "Make a contingency table for mean salary and another for the total number of people in each combination of categories."
      ]
    },
    {
      "cell_type": "code",
      "execution_count": null,
      "metadata": {
        "id": "yqk1QZYcammq"
      },
      "outputs": [],
      "source": [
        "# Use `crosstab` from Pandas with the aggregate function `mean` from Numpy"
      ]
    },
    {
      "cell_type": "code",
      "execution_count": null,
      "metadata": {
        "id": "45miQQo6eO8H"
      },
      "outputs": [],
      "source": [
        "# Use `crosstab` from Pandas. Pass the value `True` to the `margins` parameter"
      ]
    },
    {
      "cell_type": "markdown",
      "metadata": {
        "id": "q9cSe7tL6OfS"
      },
      "source": [
        "## Question for Reflection\n",
        "\n",
        "For this data set, we were asked to determine the pay gap between men and women in the company where the data were collected.\n",
        "\n",
        "- Before going forward, use the contingency tables above and try to answer the original question: what is the pay gap?"
      ]
    },
    {
      "cell_type": "markdown",
      "metadata": {
        "id": "449iMN_LxOgn"
      },
      "source": [
        "**Your answer:**"
      ]
    },
    {
      "cell_type": "markdown",
      "metadata": {
        "id": "8MyQJIV57Grz"
      },
      "source": [
        "## Guided Analysis"
      ]
    },
    {
      "cell_type": "markdown",
      "metadata": {
        "id": "RSdaOlHFfvr4"
      },
      "source": [
        "### 1. Compute the mean salary for women and for men\n",
        "\n",
        "- Compute the mean salary for women\n",
        "- Compute the mean salary for men\n",
        "- Take the difference\n",
        "\n",
        "Who earns more? Men or women?"
      ]
    },
    {
      "cell_type": "markdown",
      "source": [
        "**Your answer:**"
      ],
      "metadata": {
        "id": "wEgwNoOLAt8E"
      }
    },
    {
      "cell_type": "code",
      "execution_count": null,
      "metadata": {
        "id": "lp5caeWUepRe"
      },
      "outputs": [],
      "source": [
        "## your code\n",
        "\n",
        "mean_women = 0.0\n",
        "mean_men = 0.0\n",
        "\n",
        "##\n",
        "\n",
        "print(f\"\"\"\n",
        "Women earn in average: ${mean_women:,.2f}\n",
        "Men earn in average: ${mean_men:,.2f}\n",
        "\n",
        "The difference is ${mean_women - mean_men:,.2f}\n",
        "\"\"\")"
      ]
    },
    {
      "cell_type": "markdown",
      "metadata": {
        "id": "pGMOvsOXhVJV"
      },
      "source": [
        "### 2. Now compare by strata\n",
        "\n",
        "- Compare by the category `position` separately.\n",
        "\n",
        "- Now, what is the pay gap in each category?\n",
        "\n",
        "- Who earns more in each position?"
      ]
    },
    {
      "cell_type": "markdown",
      "source": [
        "**Your answer:**"
      ],
      "metadata": {
        "id": "Kl7iDYDCFSon"
      }
    },
    {
      "cell_type": "code",
      "execution_count": null,
      "metadata": {
        "id": "s2JQWRoDvGtE"
      },
      "outputs": [],
      "source": [
        "data.head()"
      ]
    },
    {
      "cell_type": "code",
      "execution_count": null,
      "metadata": {
        "id": "oH5YgNnTNzPS"
      },
      "outputs": [],
      "source": [
        "## Your code\n",
        "## Use `groupby` to compute the average salary by position and sex\n",
        "## Also count the occurrence of each combination of categories (i.e., \n",
        "## Manager and Man, Manager and Women, etc.)\n",
        "\n",
        "\n",
        "data_grpd = (data\n",
        "             .groupby([])\n",
        "             .agg({})\n",
        "             .rename(columns={}) # rename the `sex` column to `counts`\n",
        "             ) \n",
        "##\n",
        "\n",
        "data_grpd"
      ]
    },
    {
      "cell_type": "code",
      "execution_count": null,
      "metadata": {
        "id": "2QRyWNdwqrbc"
      },
      "outputs": [],
      "source": [
        "mean_women_managers = data_grpd.loc[\n",
        "                                    [(\"Manager\", \"Women\")],\n",
        "                                    \"salary\"\n",
        "                                    ].values\n",
        "mean_men_managers = data_grpd.loc[\n",
        "                                  [(\"Manager\", \"Women\")],\n",
        "                                  \"salary\"\n",
        "                                  ].values\n",
        "difference_managers = (mean_women_managers - mean_men_managers)[0]\n",
        "\n",
        "print(f\"\"\"\n",
        "Women managers earn on average: ${mean_women_managers[0]:,.2f}\n",
        "Men managers earn on average: ${mean_men_managers[0]:,.2f}\n",
        "\n",
        "The difference is ${difference_managers:,.2f}\n",
        "\"\"\")"
      ]
    },
    {
      "cell_type": "code",
      "execution_count": null,
      "metadata": {
        "id": "x-vl0d6KrJvX"
      },
      "outputs": [],
      "source": [
        "mean_women_no_managers = data_grpd.loc[\n",
        "                                        [(\"No manager\", \"Women\")],\n",
        "                                        \"salary\"].values\n",
        "mean_men_no_managers = data_grpd.loc[\n",
        "                                      [(\"No manager\", \"Men\")],\n",
        "                                      \"salary\"\n",
        "                                      ].values\n",
        "difference_no_managers = (mean_women_no_managers -\n",
        "                                    mean_men_no_managers)[0]\n",
        "\n",
        "print(f\"\"\"\n",
        "Women who are not managers earn on average: ${mean_women_no_managers[0]:,.2f}\n",
        "Men who are not manager earn on average: ${mean_men_no_managers[0]:,.2f}\n",
        "\n",
        "The difference is ${difference_no_managers:,.2f}\n",
        "\"\"\")"
      ]
    },
    {
      "cell_type": "markdown",
      "source": [
        "### 3. Time to decide\n",
        "\n",
        "What's your answer to the original question: what's the pay gap?"
      ],
      "metadata": {
        "id": "kmBOHKrEIXXw"
      }
    },
    {
      "cell_type": "markdown",
      "source": [
        "**Your answer:**"
      ],
      "metadata": {
        "id": "iBxq-i0OIlw1"
      }
    },
    {
      "cell_type": "markdown",
      "metadata": {
        "id": "8MpB2jWPXXcS"
      },
      "source": [
        "### Extra (optional)\n",
        "\n",
        "Make a weighted mean of the two previous differences by the number of employees in each category. In order words, combine the previous two differences considering who many people are there in each job position."
      ]
    },
    {
      "cell_type": "code",
      "execution_count": null,
      "metadata": {
        "id": "FNy0JO_ErUcj"
      },
      "outputs": [],
      "source": [
        "## Your code\n",
        "weighted_mean = None\n",
        "\n",
        "##\n",
        "\n",
        "print(f\"The weighted mean is: ${weighted_mean:,.2f}\")"
      ]
    },
    {
      "cell_type": "markdown",
      "metadata": {
        "id": "df6DtJM_Z4iP"
      },
      "source": [
        "### Time for reflection\n",
        "\n",
        "1. What do you think is going on? Do your results make sense?\n",
        "\n",
        "2. How do you explain that doing the analysis in one way one sex is getting paid more and doing the analysis in a different form the other sex is now getting paid more?\n",
        "\n",
        "3. If instead of `sex` (`Man` and `Woman`), we were observing, for example, `life style` (e.g., `healthy` vs. `non healthy`), and we kept the other two variables `position`, and `salary`, would your  the SAME DATA`Si las etiquetas de los datos fueran `estilo de vida` en lugar de `sexo`, `puesto` y `salario`, ¿cambiaría tu respuesta?"
      ]
    },
    {
      "cell_type": "markdown",
      "metadata": {
        "id": "vV7R_W4Qya9j"
      },
      "source": [
        "**Your answers:**\n",
        "\n",
        "1.\n",
        "\n",
        "2.\n",
        "\n",
        "3."
      ]
    },
    {
      "cell_type": "markdown",
      "metadata": {
        "id": "5rzD9W3BXc0-"
      },
      "source": [
        "## Statistical Analysis of Difference in Means"
      ]
    },
    {
      "cell_type": "markdown",
      "metadata": {
        "id": "DxJ9zRFbXi6t"
      },
      "source": [
        "Make a linear regression of `salary ~ sex`.\n",
        "\n",
        "1. Compare the coefficient (slope) of the categorical variable coeficiente (pendiente) de la variable categórica `sex` with the results you obtained above.\n",
        "\n",
        "2. Are the differences (statistically) significant?"
      ]
    },
    {
      "cell_type": "markdown",
      "metadata": {
        "id": "pCNeK5Kr7qCZ"
      },
      "source": [
        "**Your answers:**\n",
        "\n",
        "1.\n",
        "\n",
        "2."
      ]
    },
    {
      "cell_type": "code",
      "execution_count": null,
      "metadata": {
        "id": "0Z9qFUKTsR02"
      },
      "outputs": [],
      "source": [
        "uncontrolled_model = smf.ols(\"salary ~ sex\", data=data).fit()\n",
        "uncontrolled_model.summary2()"
      ]
    },
    {
      "cell_type": "markdown",
      "metadata": {
        "id": "ScuEzN6mYCVI"
      },
      "source": [
        "Now, make a linear regression of `salary ~ sex + position`.\n",
        "\n",
        "1. Again, compare the coefficient (slope) of the categorical variable `sex` with the **weighted** result you might (it was optional) have obtained above (it might differ slightly).\n",
        "\n",
        "2. Are the difference (statistically) significant?"
      ]
    },
    {
      "cell_type": "markdown",
      "metadata": {
        "id": "1QNp8C-v7qCZ"
      },
      "source": [
        "**Your answers:**\n",
        "\n",
        "1. (optional)\n",
        "\n",
        "2. \n"
      ]
    },
    {
      "cell_type": "code",
      "execution_count": null,
      "metadata": {
        "id": "423oBK-oP-sz"
      },
      "outputs": [],
      "source": [
        "controlled_model = smf.ols(\"salary ~ sex + position\", data=data).fit()\n",
        "controlled_model.summary2()"
      ]
    },
    {
      "cell_type": "markdown",
      "metadata": {
        "id": "mmZox2G3bZJn"
      },
      "source": [
        "## Analysis using Bootstrap"
      ]
    },
    {
      "cell_type": "markdown",
      "metadata": {
        "id": "ygP6Ifm-jaYz"
      },
      "source": [
        "Analize the code below to answer the following questions:\n",
        "\n",
        "1. What does the function `estimate_statistic` return?\n",
        "2. What is the code in line 10 on the following cell doing?\n",
        "3. Compare the value of variable `mean_difference` with the results obtained in the previous sections.\n",
        "4. How is the interval $[\\mathrm{LL}, \\mathrm{UU}]$ interpreted?\n",
        "5. How many elements does the array `bootstrap_statistcs` hold and why does its histogram tend to a normal distribution?\n",
        "\n"
      ]
    },
    {
      "cell_type": "markdown",
      "metadata": {
        "id": "cJ4P8pCWyhXX"
      },
      "source": [
        "**Your answers:**\n",
        "\n",
        "1.\n",
        "\n",
        "2.\n",
        "\n",
        "3.\n",
        "\n",
        "4.\n",
        "\n",
        "5."
      ]
    },
    {
      "cell_type": "code",
      "execution_count": null,
      "metadata": {
        "id": "p-BHmzlFbcBd"
      },
      "outputs": [],
      "source": [
        "def estimate_statistic(bootstrap_sample):\n",
        "  return smf.ols(\"salary ~ sex\", data=bootstrap_sample).fit().params[1]\n",
        "\n",
        "\n",
        "N_bootstraps = 10_000\n",
        "bootstrap_statistics = []\n",
        "\n",
        "\n",
        "for _ in tqdm(range(N_bootstraps)):\n",
        "  bootstrap_sample = data.sample(n=len(data), replace=True)\n",
        "  statistic = estimate_statistic(bootstrap_sample)\n",
        "  bootstrap_statistics.append(statistic)\n",
        "\n",
        "bootstrap_statistics = np.array(bootstrap_statistics)\n",
        "mean_difference = np.mean(bootstrap_statistics)\n",
        "LL, UU = np.quantile(bootstrap_statistics, 0.025), np.quantile(bootstrap_statistics, 0.975)"
      ]
    },
    {
      "cell_type": "code",
      "execution_count": null,
      "metadata": {
        "id": "UmM7xLU0dIe_"
      },
      "outputs": [],
      "source": [
        "plt.plot([LL, UU], [0, 0], color=\"yellow\", lw=5)\n",
        "plt.plot([mean_difference, mean_difference], [0, 10], color=\"red\")\n",
        "sns.histplot(data=bootstrap_statistics, bins=30, kde=True)"
      ]
    },
    {
      "cell_type": "code",
      "execution_count": null,
      "metadata": {
        "id": "DkYnbdRSdPvM"
      },
      "outputs": [],
      "source": [
        "print(f\"\"\"\n",
        "The estimated value by resampling with replacement is ${mean_difference:,.2f}.\n",
        "With a 95% boostrap confidence interval of [${LL:,.2f}, {UU:,.2f}].\n",
        "\"\"\")"
      ]
    }
  ],
  "metadata": {
    "colab": {
      "collapsed_sections": [],
      "name": "Causal_Inference_B22_Ex01_HW.ipynb",
      "provenance": [],
      "toc_visible": true,
      "include_colab_link": true
    },
    "kernelspec": {
      "display_name": "Python 3.9.7 ('effective_pandas')",
      "language": "python",
      "name": "python3"
    },
    "language_info": {
      "codemirror_mode": {
        "name": "ipython",
        "version": 3
      },
      "file_extension": ".py",
      "mimetype": "text/x-python",
      "name": "python",
      "nbconvert_exporter": "python",
      "pygments_lexer": "ipython3",
      "version": "3.9.7"
    },
    "vscode": {
      "interpreter": {
        "hash": "e4235df6b2d0ae63a0378aad4518da7aa14462f74ac68bc690aa58b9af347057"
      }
    }
  },
  "nbformat": 4,
  "nbformat_minor": 0
}