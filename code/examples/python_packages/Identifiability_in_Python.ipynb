{
  "nbformat": 4,
  "nbformat_minor": 0,
  "metadata": {
    "colab": {
      "provenance": [],
      "authorship_tag": "ABX9TyMnNeenJYXHwXonufWdBdxo",
      "include_colab_link": true
    },
    "kernelspec": {
      "name": "python3",
      "display_name": "Python 3"
    },
    "language_info": {
      "name": "python"
    }
  },
  "cells": [
    {
      "cell_type": "markdown",
      "metadata": {
        "id": "view-in-github",
        "colab_type": "text"
      },
      "source": [
        "<a href=\"https://colab.research.google.com/github/ccaballeroh/Causalidad_B22/blob/main/code/examples/python_packages/Identifiability_in_Python.ipynb\" target=\"_parent\"><img src=\"https://colab.research.google.com/assets/colab-badge.svg\" alt=\"Open In Colab\"/></a>"
      ]
    },
    {
      "cell_type": "code",
      "execution_count": 34,
      "metadata": {
        "colab": {
          "base_uri": "https://localhost:8080/"
        },
        "id": "kWem7VXC0x-c",
        "outputId": "87387db2-805d-4e31-96de-e7a44a1658ed"
      },
      "outputs": [
        {
          "output_type": "stream",
          "name": "stdout",
          "text": [
            "Looking in indexes: https://pypi.org/simple, https://us-python.pkg.dev/colab-wheels/public/simple/\n",
            "Requirement already satisfied: causaleffect in /usr/local/lib/python3.8/dist-packages (0.0.2)\n",
            "Requirement already satisfied: numpy>=1.15.1 in /usr/local/lib/python3.8/dist-packages (from causaleffect) (1.21.6)\n",
            "Requirement already satisfied: python-igraph>=0.8.3 in /usr/local/lib/python3.8/dist-packages (from causaleffect) (0.10.2)\n",
            "Requirement already satisfied: igraph==0.10.2 in /usr/local/lib/python3.8/dist-packages (from python-igraph>=0.8.3->causaleffect) (0.10.2)\n",
            "Requirement already satisfied: texttable>=1.6.2 in /usr/local/lib/python3.8/dist-packages (from igraph==0.10.2->python-igraph>=0.8.3->causaleffect) (1.6.7)\n",
            "Looking in indexes: https://pypi.org/simple, https://us-python.pkg.dev/colab-wheels/public/simple/\n",
            "Requirement already satisfied: cairocffi in /usr/local/lib/python3.8/dist-packages (1.4.0)\n",
            "Requirement already satisfied: cffi>=1.1.0 in /usr/local/lib/python3.8/dist-packages (from cairocffi) (1.15.1)\n",
            "Requirement already satisfied: pycparser in /usr/local/lib/python3.8/dist-packages (from cffi>=1.1.0->cairocffi) (2.21)\n"
          ]
        }
      ],
      "source": [
        "!pip install causaleffect\n",
        "!pip install cairocffi"
      ]
    },
    {
      "cell_type": "markdown",
      "source": [
        "# Using Algorithms for Identifiability"
      ],
      "metadata": {
        "id": "CqGNUGjy5MMg"
      }
    },
    {
      "cell_type": "markdown",
      "source": [
        "There is a well-known R package named [`causaleffect`](https://github.com/santikka/causaleffect/) (see the package vignettes at [CRAN](https://cran.r-project.org/web/packages/causaleffect/index.html) and the [paper](https://www.jstatsoft.org/article/view/v076i12)) that implements algorithms for conditional causal effects identification, algorithms for transportability, and selection bias recovery.\n",
        "\n",
        "In case using R is not an option, there's this [Python package](https://github.com/pedemonte96/causaleffect) with the same name (see the paper [Algorithmic Causal Effect Identification with `causaleffect`](https://arxiv.org/abs/2107.04632)).\n",
        "\n",
        "Let's use this package to get the front-door adjustment formula automatically."
      ],
      "metadata": {
        "id": "mVFabF5X5UUE"
      }
    },
    {
      "cell_type": "code",
      "source": [
        "import causaleffect"
      ],
      "metadata": {
        "id": "raFYB4rL1Cr4"
      },
      "execution_count": 35,
      "outputs": []
    },
    {
      "cell_type": "code",
      "source": [
        "G = causaleffect.createGraph(['X<->Y', 'X->Z', 'Z->Y'])"
      ],
      "metadata": {
        "id": "M1E23cM51GFg"
      },
      "execution_count": 36,
      "outputs": []
    },
    {
      "cell_type": "code",
      "source": [
        "causaleffect.plotGraph(G)"
      ],
      "metadata": {
        "colab": {
          "base_uri": "https://localhost:8080/",
          "height": 421
        },
        "id": "VkizTBE61X_I",
        "outputId": "5e28336f-4dfc-4019-bfcb-c6872c2726a5"
      },
      "execution_count": 37,
      "outputs": [
        {
          "output_type": "execute_result",
          "data": {
            "text/plain": [
              "<igraph.drawing.cairo.plot.CairoPlot at 0x7f68400b4eb0>"
            ],
            "image/svg+xml": "<?xml version=\"1.0\" encoding=\"UTF-8\"?>\n<svg xmlns=\"http://www.w3.org/2000/svg\" xmlns:xlink=\"http://www.w3.org/1999/xlink\" width=\"300pt\" height=\"300pt\" viewBox=\"0 0 300 300\" version=\"1.1\">\n<defs>\n<g>\n<symbol overflow=\"visible\" id=\"glyph0-0\">\n<path style=\"stroke:none;\" d=\"M 0.46875 0 L 0.46875 -9.328125 L 4.1875 -9.328125 L 4.1875 0 Z M 0.9375 -0.46875 L 3.71875 -0.46875 L 3.71875 -8.859375 L 0.9375 -8.859375 Z M 0.9375 -0.46875 \"/>\n</symbol>\n<symbol overflow=\"visible\" id=\"glyph0-1\">\n<path style=\"stroke:none;\" d=\"M 4.203125 -5.71875 L 6.46875 -9.21875 L 7.875 -9.21875 L 4.90625 -4.8125 L 8.15625 0 L 6.75 0 L 4.203125 -3.921875 L 1.640625 0 L 0.25 0 L 3.5 -4.8125 L 0.53125 -9.21875 L 1.921875 -9.21875 Z M 4.203125 -5.71875 \"/>\n</symbol>\n<symbol overflow=\"visible\" id=\"glyph0-2\">\n<path style=\"stroke:none;\" d=\"M 4.84375 -4 L 4.84375 0 L 3.5625 0 L 3.5625 -4 L 0.25 -9.21875 L 1.640625 -9.21875 L 4.203125 -5.046875 L 6.75 -9.21875 L 8.15625 -9.21875 Z M 4.84375 -4 \"/>\n</symbol>\n<symbol overflow=\"visible\" id=\"glyph0-3\">\n<path style=\"stroke:none;\" d=\"M 7.890625 0 L 0.5 0 L 0.5 -0.984375 L 6.09375 -8.15625 L 1 -8.15625 L 1 -9.21875 L 7.578125 -9.21875 L 7.578125 -8.265625 L 1.984375 -1.0625 L 7.890625 -1.0625 Z M 7.890625 0 \"/>\n</symbol>\n</g>\n</defs>\n<g id=\"surface44\">\n<rect x=\"0\" y=\"0\" width=\"300\" height=\"300\" style=\"fill:rgb(100%,100%,100%);fill-opacity:1;stroke:none;\"/>\n<path style=\"fill:none;stroke-width:1;stroke-linecap:butt;stroke-linejoin:miter;stroke:rgb(0%,53.333333%,20%);stroke-opacity:1;stroke-miterlimit:10;\" d=\"M 40 260 C 116.609375 249.085938 184.914062 219.097656 241.84375 166.707031 \"/>\n<path style=\" stroke:none;fill-rule:nonzero;fill:rgb(0%,53.333333%,20%);fill-opacity:1;\" d=\"M 252.34375 157.046875 L 244.984375 170.117188 L 238.707031 163.296875 L 252.34375 157.046875 \"/>\n<path style=\"fill:none;stroke-width:1;stroke-linecap:butt;stroke-linejoin:miter;stroke:rgb(0%,53.333333%,20%);stroke-opacity:1;stroke-miterlimit:10;\" d=\"M 260 150 C 204.425781 203.515625 133.941406 224.648438 62.851562 251.402344 \"/>\n<path style=\" stroke:none;fill-rule:nonzero;fill:rgb(0%,53.333333%,20%);fill-opacity:1;\" d=\"M 49.5 256.425781 L 61.21875 247.0625 L 64.484375 255.738281 L 49.5 256.425781 \"/>\n<path style=\"fill:none;stroke-width:2.5;stroke-linecap:butt;stroke-linejoin:miter;stroke:rgb(0%,0%,100%);stroke-opacity:1;stroke-miterlimit:10;\" d=\"M 260 150 L 61.703125 50.851562 \"/>\n<path style=\" stroke:none;fill-rule:nonzero;fill:rgb(0%,0%,100%);fill-opacity:1;\" d=\"M 48.945312 44.472656 L 63.777344 46.707031 L 59.632812 54.996094 L 48.945312 44.472656 \"/>\n<path style=\"fill:none;stroke-width:2.5;stroke-linecap:butt;stroke-linejoin:miter;stroke:rgb(0%,0%,100%);stroke-opacity:1;stroke-miterlimit:10;\" d=\"M 40 40 L 40 235.734375 \"/>\n<path style=\" stroke:none;fill-rule:nonzero;fill:rgb(0%,0%,100%);fill-opacity:1;\" d=\"M 40 250 L 35.363281 235.734375 L 44.636719 235.734375 L 40 250 \"/>\n<path style=\"fill-rule:nonzero;fill:rgb(100%,0%,0%);fill-opacity:1;stroke-width:1;stroke-linecap:butt;stroke-linejoin:miter;stroke:rgb(0%,0%,0%);stroke-opacity:1;stroke-miterlimit:10;\" d=\"M 270 150 C 270 155.523438 265.523438 160 260 160 C 254.476562 160 250 155.523438 250 150 C 250 144.476562 254.476562 140 260 140 C 265.523438 140 270 144.476562 270 150 \"/>\n<path style=\"fill-rule:nonzero;fill:rgb(100%,0%,0%);fill-opacity:1;stroke-width:1;stroke-linecap:butt;stroke-linejoin:miter;stroke:rgb(0%,0%,0%);stroke-opacity:1;stroke-miterlimit:10;\" d=\"M 50 260 C 50 265.523438 45.523438 270 40 270 C 34.476562 270 30 265.523438 30 260 C 30 254.476562 34.476562 250 40 250 C 45.523438 250 50 254.476562 50 260 \"/>\n<path style=\"fill-rule:nonzero;fill:rgb(100%,0%,0%);fill-opacity:1;stroke-width:1;stroke-linecap:butt;stroke-linejoin:miter;stroke:rgb(0%,0%,0%);stroke-opacity:1;stroke-miterlimit:10;\" d=\"M 50 40 C 50 45.523438 45.523438 50 40 50 C 34.476562 50 30 45.523438 30 40 C 30 34.476562 34.476562 30 40 30 C 45.523438 30 50 34.476562 50 40 \"/>\n<g style=\"fill:rgb(0%,0%,0%);fill-opacity:1;\">\n  <use xlink:href=\"#glyph0-1\" x=\"255.800781\" y=\"179.222656\"/>\n</g>\n<g style=\"fill:rgb(0%,0%,0%);fill-opacity:1;\">\n  <use xlink:href=\"#glyph0-2\" x=\"35.804688\" y=\"289.222656\"/>\n</g>\n<g style=\"fill:rgb(0%,0%,0%);fill-opacity:1;\">\n  <use xlink:href=\"#glyph0-3\" x=\"35.800781\" y=\"69.222656\"/>\n</g>\n</g>\n</svg>\n"
          },
          "metadata": {
            "image/svg+xml": {
              "isolated": true
            }
          },
          "execution_count": 37
        }
      ]
    },
    {
      "cell_type": "markdown",
      "source": [
        "With our DAG defined, we can use the function `ID` to a $\\LaTeX$ expression with the _estimand_. "
      ],
      "metadata": {
        "id": "o6Yfhn1O8Fq-"
      }
    },
    {
      "cell_type": "code",
      "source": [
        "Q = causaleffect.ID({'Y'}, {'X'}, G)\n",
        "Q.printLatex()"
      ],
      "metadata": {
        "colab": {
          "base_uri": "https://localhost:8080/",
          "height": 35
        },
        "id": "3cK-vr1f16EY",
        "outputId": "5f69d1f7-4af2-4ff5-c392-8bd83f36926b"
      },
      "execution_count": 38,
      "outputs": [
        {
          "output_type": "execute_result",
          "data": {
            "text/plain": [
              "'\\\\sum_{z}P(z|x)\\\\left(\\\\sum_{x}P(x)P(y|x, z)\\\\right)'"
            ],
            "application/vnd.google.colaboratory.intrinsic+json": {
              "type": "string"
            }
          },
          "metadata": {},
          "execution_count": 38
        }
      ]
    },
    {
      "cell_type": "markdown",
      "source": [
        "So, we finally can display this expression and see that agrees with the front-door adjustment formula."
      ],
      "metadata": {
        "id": "3Bvo5WA99NwM"
      }
    },
    {
      "cell_type": "markdown",
      "source": [
        "$$P(Y=y|\\mathrm{do}(X=x)) = \\sum_{z}P(z|x)\\left(\\sum_{x}P(x)P(y|x, z)\\right)$$"
      ],
      "metadata": {
        "id": "efcVU7nV2tKa"
      }
    }
  ]
}